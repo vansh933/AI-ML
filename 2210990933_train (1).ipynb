{
 "cells": [
  {
   "cell_type": "code",
   "execution_count": 1,
   "id": "94feb5f5-b7d2-4131-8f34-f0d1c6a03d4c",
   "metadata": {},
   "outputs": [
    {
     "ename": "ModuleNotFoundError",
     "evalue": "No module named 'mysql'",
     "output_type": "error",
     "traceback": [
      "\u001b[1;31m---------------------------------------------------------------------------\u001b[0m",
      "\u001b[1;31mModuleNotFoundError\u001b[0m                       Traceback (most recent call last)",
      "Input \u001b[1;32mIn [1]\u001b[0m, in \u001b[0;36m<cell line: 1>\u001b[1;34m()\u001b[0m\n\u001b[1;32m----> 1\u001b[0m \u001b[38;5;28;01mimport\u001b[39;00m \u001b[38;5;21;01mmysql\u001b[39;00m\u001b[38;5;21;01m.\u001b[39;00m\u001b[38;5;21;01mconnector\u001b[39;00m \u001b[38;5;28;01mas\u001b[39;00m \u001b[38;5;21;01mmysql\u001b[39;00m\n\u001b[0;32m      2\u001b[0m \u001b[38;5;28;01mimport\u001b[39;00m \u001b[38;5;21;01mpandas\u001b[39;00m \u001b[38;5;28;01mas\u001b[39;00m \u001b[38;5;21;01mpd\u001b[39;00m\n\u001b[0;32m      3\u001b[0m db_connection \u001b[38;5;241m=\u001b[39m mysql\u001b[38;5;241m.\u001b[39mconnect(host\u001b[38;5;241m=\u001b[39m\u001b[38;5;124m'\u001b[39m\u001b[38;5;124mlocalhost\u001b[39m\u001b[38;5;124m'\u001b[39m,database\u001b[38;5;241m=\u001b[39m\u001b[38;5;124m'\u001b[39m\u001b[38;5;124maiml\u001b[39m\u001b[38;5;124m'\u001b[39m,user\u001b[38;5;241m=\u001b[39m\u001b[38;5;124m'\u001b[39m\u001b[38;5;124mroot\u001b[39m\u001b[38;5;124m'\u001b[39m,password\u001b[38;5;241m=\u001b[39m\u001b[38;5;124m'\u001b[39m\u001b[38;5;124mVansh@2004\u001b[39m\u001b[38;5;124m'\u001b[39m)\n",
      "\u001b[1;31mModuleNotFoundError\u001b[0m: No module named 'mysql'"
     ]
    }
   ],
   "source": [
    "import mysql.connector as mysql\n",
    "import pandas as pd\n",
    "db_connection = mysql.connect(host='localhost',database='aiml',user='root',password='Vansh@2004')\n",
    "query=\"SELECT * FROM train\"\n",
    "df_mysql = pd.read_sql(query,con = db_connection)\n",
    "df_mysql"
   ]
  },
  {
   "cell_type": "markdown",
   "id": "5e6f6b17",
   "metadata": {},
   "source": [
    "# DISPLAY TOP 5 ROWS OF THE DATASET"
   ]
  },
  {
   "cell_type": "code",
   "execution_count": null,
   "id": "8c5ecde1",
   "metadata": {},
   "outputs": [],
   "source": [
    "df_mysql.head(5)"
   ]
  },
  {
   "cell_type": "markdown",
   "id": "5b4238a9",
   "metadata": {},
   "source": [
    "# CHECK LAST 3 ROWS OF THE DATASET"
   ]
  },
  {
   "cell_type": "code",
   "execution_count": null,
   "id": "6b308189",
   "metadata": {},
   "outputs": [],
   "source": [
    "df_mysql.tail(3)"
   ]
  },
  {
   "cell_type": "markdown",
   "id": "f23a634c",
   "metadata": {},
   "source": [
    "# FIND SHAPE OF OUR DATASET(NUMBER OF ROWS & NUMBER OF COLUMNS)"
   ]
  },
  {
   "cell_type": "code",
   "execution_count": null,
   "id": "dca21895",
   "metadata": {},
   "outputs": [],
   "source": [
    "df_mysql.shape"
   ]
  },
  {
   "cell_type": "markdown",
   "id": "02bda623",
   "metadata": {},
   "source": [
    "# GET INFORMATION ABOUT OUR DATASET LIKE TOTAL NUMBER ROWS,TOTAL NUMBER OF COLUMNS,DATATYPE OF EACH COLUMN AND MEMORY REQUIREDMENT"
   ]
  },
  {
   "cell_type": "code",
   "execution_count": null,
   "id": "3cf0294b",
   "metadata": {},
   "outputs": [],
   "source": [
    "df_mysql.info()"
   ]
  },
  {
   "cell_type": "markdown",
   "id": "144e4679",
   "metadata": {},
   "source": [
    "# GET OVERALL STATISTICS ABOUT THE DATAFRAME"
   ]
  },
  {
   "cell_type": "code",
   "execution_count": null,
   "id": "06bf0937",
   "metadata": {},
   "outputs": [],
   "source": [
    "df_mysql.describe()"
   ]
  },
  {
   "cell_type": "markdown",
   "id": "f63f4a26",
   "metadata": {},
   "source": [
    "# DATA FILTERING"
   ]
  },
  {
   "cell_type": "code",
   "execution_count": null,
   "id": "bf8de21b",
   "metadata": {},
   "outputs": [],
   "source": [
    "data = df_mysql[df_mysql['PassengerId']<10]\n",
    "data"
   ]
  },
  {
   "cell_type": "markdown",
   "id": "029752a3",
   "metadata": {},
   "source": [
    "# CHECK NULL VALUES IN THE DATASET"
   ]
  },
  {
   "cell_type": "code",
   "execution_count": null,
   "id": "c48da6d3",
   "metadata": {},
   "outputs": [],
   "source": [
    "df_mysql.isnull()"
   ]
  },
  {
   "cell_type": "markdown",
   "id": "c54a6f7c",
   "metadata": {},
   "source": [
    "# DROP THE COLUMN"
   ]
  },
  {
   "cell_type": "code",
   "execution_count": null,
   "id": "56ec38c5",
   "metadata": {},
   "outputs": [],
   "source": [
    "df_mysql.drop('Parch', axis=1)"
   ]
  },
  {
   "cell_type": "markdown",
   "id": "9e1f7777",
   "metadata": {},
   "source": [
    "# HANDLE MISSING VALUES"
   ]
  },
  {
   "cell_type": "code",
   "execution_count": null,
   "id": "922475c4",
   "metadata": {},
   "outputs": [],
   "source": [
    "df_mysql.dropna(inplace=True)"
   ]
  },
  {
   "cell_type": "markdown",
   "id": "b77f37bd-d18b-4353-a138-f62c2f6a7b7c",
   "metadata": {},
   "source": [
    "# CATEGORICAL DATA ENCODING"
   ]
  },
  {
   "cell_type": "code",
   "execution_count": null,
   "id": "9a988e5d",
   "metadata": {},
   "outputs": [],
   "source": [
    "data = pd.get_dummies(data, columns=['Pclass'], drop_first=True)\n",
    "data"
   ]
  },
  {
   "cell_type": "markdown",
   "id": "c6321275",
   "metadata": {},
   "source": [
    "# WHAT IS UNIVARIATE ANALYSIS"
   ]
  },
  {
   "cell_type": "code",
   "execution_count": null,
   "id": "8a0a8760",
   "metadata": {},
   "outputs": [],
   "source": [
    "data.columns\n",
    "data['PassengerId'].describe()"
   ]
  },
  {
   "cell_type": "markdown",
   "id": "ef1eb764",
   "metadata": {},
   "source": [
    "# HOW MANY PEOPLE SURVIVED AND HOW MANY DIED PLOT ON GRAPH"
   ]
  },
  {
   "cell_type": "code",
   "execution_count": null,
   "id": "dd5a3c1c",
   "metadata": {},
   "outputs": [],
   "source": [
    "import matplotlib.pyplot as plt\n",
    "\n",
    "# Group the data by the 'Survived' column and count the occurrences of each category\n",
    "survived_count = data['Survived'].value_counts()\n",
    "\n",
    "# Plot the counts\n",
    "plt.figure(figsize=(8, 6))\n",
    "plt.bar(survived_count.index, survived_count.values, color=['red', 'green'])\n",
    "plt.xticks(survived_count.index, ['Died', 'Survived'])\n",
    "plt.xlabel('Outcome')\n",
    "plt.ylabel('Number of People')\n",
    "plt.title('Number of People Survived and Died')\n",
    "plt.show()"
   ]
  },
  {
   "cell_type": "markdown",
   "id": "21b502ea",
   "metadata": {},
   "source": [
    "# HOW MANY PASSENGERS WERE IN FIRST CLASS,SECOND CLASS AND THIRD CLASS PLOT THOSE FIGURES ON GRAPH"
   ]
  },
  {
   "cell_type": "code",
   "execution_count": null,
   "id": "9bedee40",
   "metadata": {},
   "outputs": [],
   "source": [
    "class_count = df_mysql['Pclass'].value_counts()\n",
    "class_count.plot(kind='bar')\n",
    "plt.title('Passenger Class Count')\n",
    "plt.xlabel('Class')\n",
    "plt.ylabel('Count')\n",
    "plt.xticks(rotation=0)\n",
    "plt.show()"
   ]
  },
  {
   "cell_type": "markdown",
   "id": "d80bb1eb",
   "metadata": {},
   "source": [
    "# NUMBER  OF MALE AND FEMALE PASSANGERS"
   ]
  },
  {
   "cell_type": "code",
   "execution_count": null,
   "id": "19b1e2f7",
   "metadata": {},
   "outputs": [],
   "source": [
    "data.columns\n",
    "class_cot = data['Sex'].value_counts()\n",
    "\n",
    "plt.figure(figsize=(8, 6))\n",
    "plt.bar(class_cot.index, class_cot.values, color=['red', 'green'])\n",
    "plt.xticks(class_cot.index, ['male', 'female'])\n",
    "plt.xlabel('Outcome')\n",
    "plt.ylabel('Number of People')\n",
    "plt.title('Number of People female and male')\n",
    "plt.show()"
   ]
  },
  {
   "cell_type": "markdown",
   "id": "ae992038",
   "metadata": {},
   "source": [
    "# BIVARIANT ANALSIS"
   ]
  },
  {
   "cell_type": "code",
   "execution_count": null,
   "id": "fe754285",
   "metadata": {},
   "outputs": [],
   "source": [
    "#when we represent two variables on a graph, that is knwown as bivaraite analysis\n",
    "data.columns\n",
    "plt.figure(figsize=(8, 6))\n",
    "plt.scatter(data['PassengerId'], data['Age'], color='blue', alpha=0.7)\n",
    "plt.xlabel('Variable 1')\n",
    "plt.ylabel('Variable 2')\n",
    "plt.title('Scatter Plot of Variable 1 vs Variable 2')\n",
    "plt.show()"
   ]
  },
  {
   "cell_type": "markdown",
   "id": "88abd73b",
   "metadata": {},
   "source": [
    "# HOW HAS BETTER CHANCE OF SURVIVAL MALE OR FEMALE\n"
   ]
  },
  {
   "cell_type": "code",
   "execution_count": null,
   "id": "43ee171f",
   "metadata": {},
   "outputs": [],
   "source": [
    "survival_pivot = data.pivot_table(index='Sex', columns='Survived', aggfunc='size', fill_value=0)\n",
    "\n",
    "# Plot the survival rates\n",
    "survival_pivot.plot(kind='bar', stacked=True, figsize=(8, 6), color=['red', 'green'])\n",
    "plt.xlabel('Sex')\n",
    "plt.ylabel('Count')\n",
    "plt.title('Survival Count by Sex')\n",
    "plt.legend(title='Survived', labels=['No', 'Yes'])\n",
    "plt.xticks(rotation=0)\n",
    "plt.show()"
   ]
  },
  {
   "cell_type": "markdown",
   "id": "4aa71181",
   "metadata": {},
   "source": [
    "# WHICH PASSENGER CLASS HAS BETTER CHANCE OF SURVIVAL(FIRST,SECOND,OR THIRD CLASS)?"
   ]
  },
  {
   "cell_type": "code",
   "execution_count": null,
   "id": "2ba81e0b",
   "metadata": {},
   "outputs": [],
   "source": [
    "survival_class = df_mysql.groupby('Pclass')['Survived'].mean()\n",
    "survival_class.plot(kind='bar')\n",
    "plt.title('Survival Rate by Passenger Class')\n",
    "plt.xlabel('Passenger Class')\n",
    "plt.ylabel('Survival Rate')\n",
    "plt.xticks(rotation=0)\n",
    "plt.show()"
   ]
  },
  {
   "cell_type": "markdown",
   "id": "6aa2b413",
   "metadata": {},
   "source": [
    "# FEATURE ENGINEERING"
   ]
  },
  {
   "cell_type": "code",
   "execution_count": null,
   "id": "b7e903ce",
   "metadata": {},
   "outputs": [],
   "source": [
    "# In a Machine Learning Workflow, after the data extraction process, whatever functions we perform falls under feature engineering."
   ]
  },
  {
   "cell_type": "code",
   "execution_count": null,
   "id": "70939ff0",
   "metadata": {},
   "outputs": [],
   "source": []
  }
 ],
 "metadata": {
  "kernelspec": {
   "display_name": "Python 3 (ipykernel)",
   "language": "python",
   "name": "python3"
  },
  "language_info": {
   "codemirror_mode": {
    "name": "ipython",
    "version": 3
   },
   "file_extension": ".py",
   "mimetype": "text/x-python",
   "name": "python",
   "nbconvert_exporter": "python",
   "pygments_lexer": "ipython3",
   "version": "3.9.12"
  },
  "varInspector": {
   "cols": {
    "lenName": 16,
    "lenType": 16,
    "lenVar": 40
   },
   "kernels_config": {
    "python": {
     "delete_cmd_postfix": "",
     "delete_cmd_prefix": "del ",
     "library": "var_list.py",
     "varRefreshCmd": "print(var_dic_list())"
    },
    "r": {
     "delete_cmd_postfix": ") ",
     "delete_cmd_prefix": "rm(",
     "library": "var_list.r",
     "varRefreshCmd": "cat(var_dic_list()) "
    }
   },
   "types_to_exclude": [
    "module",
    "function",
    "builtin_function_or_method",
    "instance",
    "_Feature"
   ],
   "window_display": false
  }
 },
 "nbformat": 4,
 "nbformat_minor": 5
}
